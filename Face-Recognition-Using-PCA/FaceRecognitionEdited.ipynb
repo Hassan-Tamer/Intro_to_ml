{
 "cells": [
  {
   "cell_type": "code",
   "execution_count": 1,
   "metadata": {},
   "outputs": [],
   "source": [
    "import numpy as np\n",
    "import numpy as np\n",
    "import matplotlib.pyplot as plt\n",
    "\n",
    "import warnings\n",
    "warnings.filterwarnings(\"ignore\")"
   ]
  },
  {
   "cell_type": "code",
   "execution_count": 2,
   "metadata": {},
   "outputs": [
    {
     "name": "stdout",
     "output_type": "stream",
     "text": [
      "README not found\n"
     ]
    }
   ],
   "source": [
    "import os\n",
    "import cv2\n",
    "import numpy as np\n",
    "\n",
    "try:\n",
    "    os.remove(\"dataset/README\")\n",
    "except:\n",
    "    print(\"README not found\")"
   ]
  },
  {
   "cell_type": "code",
   "execution_count": 3,
   "metadata": {},
   "outputs": [],
   "source": [
    "def show_image(images,label):\n",
    "    image = cv2.cvtColor(images, cv2.COLOR_BGR2RGB)\n",
    "    image = cv2.convertScaleAbs(image)\n",
    "    blurred_image = cv2.GaussianBlur(image, (5, 5), 0) #blurry the image\n",
    "    plt.imshow(blurred_image)\n",
    "    plt.title(label)\n",
    "    plt.axis('off')  # Turn off axis labels\n",
    "    plt.show()"
   ]
  },
  {
   "cell_type": "code",
   "execution_count": 4,
   "metadata": {},
   "outputs": [
    {
     "name": "stdout",
     "output_type": "stream",
     "text": [
      "Images shape: (400, 10304)\n",
      "Labels shape: (400, 1)\n"
     ]
    }
   ],
   "source": [
    "# pip install natsort \n",
    "from natsort import natsorted\n",
    "\n",
    "all_images = []\n",
    "all_labels = []\n",
    "\n",
    "entries = os.listdir(\"dataset\")\n",
    "# Natsort is used to sort the images in the order of their names which the normal sort fails to do\n",
    "entries = natsorted(entries)\n",
    "for i,entry in enumerate(entries):\n",
    "    images = os.listdir(\"dataset/\"+entry)\n",
    "    images = natsorted(images)\n",
    "    for image in images:\n",
    "        # Reading the image and converting it to grayscale\n",
    "        img = cv2.imread(\"dataset/\"+entry+\"/\"+image,cv2.IMREAD_GRAYSCALE)\n",
    "        # Flastten / normalize the image\n",
    "        all_images.append(img.flatten()/255)\n",
    "        all_labels.append(i+1)\n",
    "    # print(img)\n",
    "    label = i+1\n",
    "    # show_image(img,label)\n",
    "\n",
    "# Generating Data matrix\n",
    "all_images = np.array(all_images)\n",
    "all_labels = np.array(all_labels)\n",
    "all_labels=all_labels.reshape(all_labels.shape[0],-1)\n",
    "\n",
    "print(f\"Images shape: {all_images.shape}\")\n",
    "print(f\"Labels shape: {all_labels.shape}\")"
   ]
  },
  {
   "cell_type": "code",
   "execution_count": 5,
   "metadata": {},
   "outputs": [
    {
     "name": "stdout",
     "output_type": "stream",
     "text": [
      "Xtrain shape: (200, 10304)\n",
      "Ytrain shape: (200, 1)\n",
      "Xtest shape: (200, 10304)\n",
      "Ytest shape: (200, 1)\n"
     ]
    }
   ],
   "source": [
    "# Splitting the data into train and test (Odd images for training and even images for testing) <<-- This is a bad way to do it\n",
    "Xtrain = all_images[1::2]\n",
    "Ytrain = all_labels[1::2]\n",
    "Xtest = all_images[0::2]\n",
    "Ytest = all_labels[0::2]\n",
    "\n",
    "print(f\"Xtrain shape: {Xtrain.shape}\")\n",
    "print(f\"Ytrain shape: {Ytrain.shape}\")\n",
    "print(f\"Xtest shape: {Xtest.shape}\")\n",
    "print(f\"Ytest shape: {Ytest.shape}\")"
   ]
  },
  {
   "cell_type": "code",
   "execution_count": 6,
   "metadata": {},
   "outputs": [
    {
     "name": "stdout",
     "output_type": "stream",
     "text": [
      "Means shape: (10304,)\n"
     ]
    }
   ],
   "source": [
    "Xtrain_transposed = Xtrain.transpose()\n",
    "means = [np.mean(row) for row in Xtrain_transposed]\n",
    "means = np.array(means)\n",
    "print(f\"Means shape: {means.shape}\")"
   ]
  },
  {
   "cell_type": "code",
   "execution_count": 7,
   "metadata": {},
   "outputs": [
    {
     "name": "stdout",
     "output_type": "stream",
     "text": [
      "Z shape: (200, 10304)\n"
     ]
    },
    {
     "name": "stdout",
     "output_type": "stream",
     "text": [
      "Covariance shape: (10304, 10304)\n"
     ]
    }
   ],
   "source": [
    "Z = Xtrain - means\n",
    "print(f\"Z shape: {Z.shape}\")\n",
    "cov = 1/len(Xtrain) * np.matmul(Z.transpose(),Z)\n",
    "print(f\"Covariance shape: {cov.shape}\")"
   ]
  },
  {
   "cell_type": "code",
   "execution_count": 8,
   "metadata": {},
   "outputs": [],
   "source": [
    "eig_values, eig_vectors = np.linalg.eigh(cov)\n",
    "idx = eig_values.argsort()[::-1]  \n",
    "eig_values = eig_values[idx]\n",
    "eig_vectors = eig_vectors[:,idx]"
   ]
  },
  {
   "cell_type": "code",
   "execution_count": 9,
   "metadata": {},
   "outputs": [],
   "source": [
    "def get_dimensions(eigen_values, alpha):\n",
    "    total = eig_values.sum()\n",
    "    sum=0\n",
    "    for i,val in enumerate(eigen_values):\n",
    "        sum+=val\n",
    "        if sum/total >= alpha:\n",
    "            break\n",
    "    return i+1"
   ]
  },
  {
   "cell_type": "code",
   "execution_count": 11,
   "metadata": {},
   "outputs": [
    {
     "data": {
      "text/plain": [
       "[37, 53, 77, 116]"
      ]
     },
     "execution_count": 11,
     "metadata": {},
     "output_type": "execute_result"
    }
   ],
   "source": [
    "alphas = [0.8,0.85,0.9,0.95]\n",
    "r = [get_dimensions(eig_values,alpha) for alpha in alphas]\n",
    "r"
   ]
  },
  {
   "cell_type": "code",
   "execution_count": 12,
   "metadata": {},
   "outputs": [],
   "source": [
    "from sklearn.neighbors import KNeighborsClassifier\n",
    "from sklearn.metrics import classification_report , accuracy_score\n",
    "from sklearn.model_selection import GridSearchCV\n",
    "p_train = []\n",
    "p_test = []\n",
    "\n",
    "for dim in r:\n",
    "    \n",
    "    p_train_data = np.matmul(eig_vectors[:, 0:dim].T, Xtrain.T).T\n",
    "    p_test_data = np.matmul(eig_vectors[:, 0:dim].T, Xtest.T).T\n",
    "\n",
    "    p_train.append(p_train_data)\n",
    "    p_test.append(p_test_data)"
   ]
  },
  {
   "cell_type": "code",
   "execution_count": 13,
   "metadata": {},
   "outputs": [],
   "source": [
    "from sklearn.metrics import make_scorer\n",
    "\n",
    "knn = KNeighborsClassifier()\n",
    "parameters = {\"n_neighbors\":list(range(1,10,2))}\n",
    "scorer = make_scorer(accuracy_score)\n",
    "grid_search = GridSearchCV(knn,param_grid=parameters,cv=5,return_train_score=True,scoring=scorer)"
   ]
  },
  {
   "cell_type": "code",
   "execution_count": 14,
   "metadata": {},
   "outputs": [
    {
     "name": "stdout",
     "output_type": "stream",
     "text": [
      "For alpha = 0.8, best parameters are {'n_neighbors': 1} and best score is 0.8949999999999999\n",
      "Classification report for alpha =  0.8\n",
      "              precision    recall  f1-score   support\n",
      "\n",
      "           1       1.00      0.60      0.75         5\n",
      "           2       0.71      1.00      0.83         5\n",
      "           3       0.83      1.00      0.91         5\n",
      "           4       1.00      1.00      1.00         5\n",
      "           5       0.62      1.00      0.77         5\n",
      "           6       1.00      1.00      1.00         5\n",
      "           7       0.71      1.00      0.83         5\n",
      "           8       1.00      1.00      1.00         5\n",
      "           9       1.00      1.00      1.00         5\n",
      "          10       1.00      0.80      0.89         5\n",
      "          11       1.00      1.00      1.00         5\n",
      "          12       1.00      1.00      1.00         5\n",
      "          13       1.00      1.00      1.00         5\n",
      "          14       1.00      1.00      1.00         5\n",
      "          15       0.83      1.00      0.91         5\n",
      "          16       0.83      1.00      0.91         5\n",
      "          17       1.00      1.00      1.00         5\n",
      "          18       1.00      1.00      1.00         5\n",
      "          19       1.00      0.80      0.89         5\n",
      "          20       1.00      0.80      0.89         5\n",
      "          21       0.83      1.00      0.91         5\n",
      "          22       1.00      1.00      1.00         5\n",
      "          23       1.00      1.00      1.00         5\n",
      "          24       1.00      1.00      1.00         5\n",
      "          25       1.00      1.00      1.00         5\n",
      "          26       1.00      1.00      1.00         5\n",
      "          27       1.00      1.00      1.00         5\n",
      "          28       1.00      1.00      1.00         5\n",
      "          29       1.00      1.00      1.00         5\n",
      "          30       1.00      1.00      1.00         5\n",
      "          31       1.00      0.80      0.89         5\n",
      "          32       1.00      0.80      0.89         5\n",
      "          33       1.00      1.00      1.00         5\n",
      "          34       1.00      1.00      1.00         5\n",
      "          35       1.00      0.60      0.75         5\n",
      "          36       0.75      0.60      0.67         5\n",
      "          37       1.00      1.00      1.00         5\n",
      "          38       0.83      1.00      0.91         5\n",
      "          39       1.00      1.00      1.00         5\n",
      "          40       0.67      0.40      0.50         5\n",
      "\n",
      "    accuracy                           0.93       200\n",
      "   macro avg       0.94      0.93      0.93       200\n",
      "weighted avg       0.94      0.93      0.93       200\n",
      "\n",
      "For alpha = 0.85, best parameters are {'n_neighbors': 1} and best score is 0.9049999999999999\n",
      "Classification report for alpha =  0.85\n",
      "              precision    recall  f1-score   support\n",
      "\n",
      "           1       1.00      0.60      0.75         5\n",
      "           2       1.00      1.00      1.00         5\n",
      "           3       0.83      1.00      0.91         5\n",
      "           4       1.00      1.00      1.00         5\n",
      "           5       0.62      1.00      0.77         5\n",
      "           6       1.00      1.00      1.00         5\n",
      "           7       0.71      1.00      0.83         5\n",
      "           8       1.00      1.00      1.00         5\n",
      "           9       1.00      1.00      1.00         5\n",
      "          10       1.00      0.80      0.89         5\n",
      "          11       1.00      1.00      1.00         5\n",
      "          12       1.00      1.00      1.00         5\n",
      "          13       1.00      1.00      1.00         5\n",
      "          14       1.00      1.00      1.00         5\n",
      "          15       1.00      1.00      1.00         5\n",
      "          16       0.83      1.00      0.91         5\n",
      "          17       1.00      1.00      1.00         5\n",
      "          18       1.00      1.00      1.00         5\n",
      "          19       0.80      0.80      0.80         5\n",
      "          20       1.00      0.80      0.89         5\n",
      "          21       0.83      1.00      0.91         5\n",
      "          22       1.00      1.00      1.00         5\n",
      "          23       1.00      1.00      1.00         5\n",
      "          24       1.00      1.00      1.00         5\n",
      "          25       1.00      1.00      1.00         5\n",
      "          26       1.00      1.00      1.00         5\n",
      "          27       1.00      1.00      1.00         5\n",
      "          28       1.00      1.00      1.00         5\n",
      "          29       1.00      1.00      1.00         5\n",
      "          30       1.00      1.00      1.00         5\n",
      "          31       1.00      0.80      0.89         5\n",
      "          32       1.00      1.00      1.00         5\n",
      "          33       1.00      1.00      1.00         5\n",
      "          34       1.00      1.00      1.00         5\n",
      "          35       1.00      0.80      0.89         5\n",
      "          36       0.75      0.60      0.67         5\n",
      "          37       1.00      1.00      1.00         5\n",
      "          38       0.83      1.00      0.91         5\n",
      "          39       1.00      1.00      1.00         5\n",
      "          40       0.67      0.40      0.50         5\n",
      "\n",
      "    accuracy                           0.94       200\n",
      "   macro avg       0.95      0.94      0.94       200\n",
      "weighted avg       0.95      0.94      0.94       200\n",
      "\n",
      "For alpha = 0.9, best parameters are {'n_neighbors': 1} and best score is 0.9\n",
      "Classification report for alpha =  0.9\n",
      "              precision    recall  f1-score   support\n",
      "\n",
      "           1       1.00      0.60      0.75         5\n",
      "           2       0.83      1.00      0.91         5\n",
      "           3       0.83      1.00      0.91         5\n",
      "           4       1.00      1.00      1.00         5\n",
      "           5       0.62      1.00      0.77         5\n",
      "           6       1.00      1.00      1.00         5\n",
      "           7       0.83      1.00      0.91         5\n",
      "           8       0.83      1.00      0.91         5\n",
      "           9       1.00      1.00      1.00         5\n",
      "          10       1.00      0.80      0.89         5\n",
      "          11       1.00      1.00      1.00         5\n",
      "          12       1.00      1.00      1.00         5\n",
      "          13       1.00      1.00      1.00         5\n",
      "          14       1.00      1.00      1.00         5\n",
      "          15       1.00      1.00      1.00         5\n",
      "          16       0.83      1.00      0.91         5\n",
      "          17       1.00      1.00      1.00         5\n",
      "          18       1.00      1.00      1.00         5\n",
      "          19       1.00      0.80      0.89         5\n",
      "          20       1.00      0.80      0.89         5\n",
      "          21       0.83      1.00      0.91         5\n",
      "          22       1.00      1.00      1.00         5\n",
      "          23       1.00      1.00      1.00         5\n",
      "          24       1.00      1.00      1.00         5\n",
      "          25       1.00      1.00      1.00         5\n",
      "          26       1.00      1.00      1.00         5\n",
      "          27       1.00      1.00      1.00         5\n",
      "          28       1.00      1.00      1.00         5\n",
      "          29       1.00      1.00      1.00         5\n",
      "          30       1.00      1.00      1.00         5\n",
      "          31       1.00      0.80      0.89         5\n",
      "          32       1.00      1.00      1.00         5\n",
      "          33       1.00      1.00      1.00         5\n",
      "          34       1.00      1.00      1.00         5\n",
      "          35       1.00      0.80      0.89         5\n",
      "          36       1.00      0.80      0.89         5\n",
      "          37       1.00      1.00      1.00         5\n",
      "          38       0.83      1.00      0.91         5\n",
      "          39       1.00      1.00      1.00         5\n",
      "          40       0.67      0.40      0.50         5\n",
      "\n",
      "    accuracy                           0.94       200\n",
      "   macro avg       0.95      0.94      0.94       200\n",
      "weighted avg       0.95      0.94      0.94       200\n",
      "\n",
      "For alpha = 0.95, best parameters are {'n_neighbors': 1} and best score is 0.9049999999999999\n",
      "Classification report for alpha =  0.95\n",
      "              precision    recall  f1-score   support\n",
      "\n",
      "           1       1.00      0.60      0.75         5\n",
      "           2       0.71      1.00      0.83         5\n",
      "           3       0.83      1.00      0.91         5\n",
      "           4       1.00      1.00      1.00         5\n",
      "           5       0.62      1.00      0.77         5\n",
      "           6       1.00      1.00      1.00         5\n",
      "           7       0.83      1.00      0.91         5\n",
      "           8       0.83      1.00      0.91         5\n",
      "           9       1.00      1.00      1.00         5\n",
      "          10       1.00      0.80      0.89         5\n",
      "          11       1.00      1.00      1.00         5\n",
      "          12       1.00      1.00      1.00         5\n",
      "          13       1.00      1.00      1.00         5\n",
      "          14       1.00      1.00      1.00         5\n",
      "          15       1.00      1.00      1.00         5\n",
      "          16       0.83      1.00      0.91         5\n",
      "          17       1.00      1.00      1.00         5\n",
      "          18       1.00      1.00      1.00         5\n",
      "          19       1.00      0.80      0.89         5\n",
      "          20       1.00      0.80      0.89         5\n",
      "          21       1.00      1.00      1.00         5\n",
      "          22       1.00      1.00      1.00         5\n",
      "          23       0.83      1.00      0.91         5\n",
      "          24       1.00      1.00      1.00         5\n",
      "          25       1.00      1.00      1.00         5\n",
      "          26       1.00      1.00      1.00         5\n",
      "          27       1.00      1.00      1.00         5\n",
      "          28       1.00      1.00      1.00         5\n",
      "          29       1.00      1.00      1.00         5\n",
      "          30       0.83      1.00      0.91         5\n",
      "          31       1.00      0.80      0.89         5\n",
      "          32       1.00      0.80      0.89         5\n",
      "          33       1.00      1.00      1.00         5\n",
      "          34       1.00      1.00      1.00         5\n",
      "          35       1.00      0.80      0.89         5\n",
      "          36       1.00      0.80      0.89         5\n",
      "          37       1.00      1.00      1.00         5\n",
      "          38       0.80      0.80      0.80         5\n",
      "          39       1.00      1.00      1.00         5\n",
      "          40       0.67      0.40      0.50         5\n",
      "\n",
      "    accuracy                           0.94       200\n",
      "   macro avg       0.95      0.93      0.93       200\n",
      "weighted avg       0.95      0.94      0.93       200\n",
      "\n"
     ]
    }
   ],
   "source": [
    "preds = []\n",
    "for i in range(len(p_train)):\n",
    "    grid_search.fit(p_train[i],Ytrain.ravel())\n",
    "    print(f\"For alpha = {alphas[i]}, best parameters are {grid_search.best_params_} and best score is {grid_search.best_score_}\")\n",
    "    y_pred = grid_search.best_estimator_.predict(p_test[i])\n",
    "    preds.append(y_pred)\n",
    "    print('Classification report for alpha = ',alphas[i])\n",
    "    print(classification_report(Ytest, y_pred))"
   ]
  },
  {
   "cell_type": "code",
   "execution_count": null,
   "metadata": {},
   "outputs": [],
   "source": []
  }
 ],
 "metadata": {
  "kernelspec": {
   "display_name": "Python 3",
   "language": "python",
   "name": "python3"
  },
  "language_info": {
   "codemirror_mode": {
    "name": "ipython",
    "version": 3
   },
   "file_extension": ".py",
   "mimetype": "text/x-python",
   "name": "python",
   "nbconvert_exporter": "python",
   "pygments_lexer": "ipython3",
   "version": "3.8.10"
  },
  "orig_nbformat": 4
 },
 "nbformat": 4,
 "nbformat_minor": 2
}
