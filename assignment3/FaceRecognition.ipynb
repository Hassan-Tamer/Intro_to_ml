{
 "cells": [
  {
   "cell_type": "code",
   "execution_count": 191,
   "metadata": {},
   "outputs": [],
   "source": [
    "import numpy as np"
   ]
  },
  {
   "cell_type": "code",
   "execution_count": 192,
   "metadata": {},
   "outputs": [
    {
     "name": "stdout",
     "output_type": "stream",
     "text": [
      "README not found\n"
     ]
    }
   ],
   "source": [
    "import os\n",
    "import cv2\n",
    "\n",
    "try:\n",
    "    os.remove(\"dataset/README\")\n",
    "except:\n",
    "    print(\"README not found\")"
   ]
  },
  {
   "cell_type": "code",
   "execution_count": 193,
   "metadata": {},
   "outputs": [
    {
     "name": "stdout",
     "output_type": "stream",
     "text": [
      "Images shape: (400, 10304)\n",
      "Labels shape: (400, 1)\n"
     ]
    }
   ],
   "source": [
    "# pip install natsort \n",
    "from natsort import natsorted\n",
    "\n",
    "all_images = []\n",
    "all_labels = []\n",
    "\n",
    "entries = os.listdir(\"dataset\")\n",
    "# Natsort is used to sort the images in the order of their names which the normal sort fails to do\n",
    "entries = natsorted(entries)\n",
    "for i,entry in enumerate(entries):\n",
    "    images = os.listdir(\"dataset/\"+entry)\n",
    "    images = natsorted(images)\n",
    "    for image in images:\n",
    "        # Reading the image and converting it to grayscale\n",
    "        img = cv2.imread(\"dataset/\"+entry+\"/\"+image,cv2.IMREAD_GRAYSCALE)\n",
    "        # Flatten / normalize the image\n",
    "        all_images.append(img.flatten()/255)\n",
    "        all_labels.append(i+1)\n",
    "\n",
    "# Generating Data matrix\n",
    "all_images = np.array(all_images)\n",
    "all_labels = np.array(all_labels)\n",
    "all_labels=all_labels.reshape(all_labels.shape[0],-1)\n",
    "\n",
    "print(f\"Images shape: {all_images.shape}\")\n",
    "print(f\"Labels shape: {all_labels.shape}\")"
   ]
  },
  {
   "cell_type": "code",
   "execution_count": 194,
   "metadata": {},
   "outputs": [
    {
     "name": "stdout",
     "output_type": "stream",
     "text": [
      "Xtrain shape: (200, 10304)\n",
      "Ytrain shape: (200, 1)\n",
      "Xtest shape: (200, 10304)\n",
      "Ytest shape: (200, 1)\n"
     ]
    }
   ],
   "source": [
    "# Splitting the data into train and test (Odd images for training and even images for testing) <<-- This is a bad way to do it\n",
    "Xtrain = all_images[1::2]\n",
    "Ytrain = all_labels[1::2]\n",
    "Xtest = all_images[0::2]\n",
    "Ytest = all_labels[0::2]\n",
    "\n",
    "print(f\"Xtrain shape: {Xtrain.shape}\")\n",
    "print(f\"Ytrain shape: {Ytrain.shape}\")\n",
    "print(f\"Xtest shape: {Xtest.shape}\")\n",
    "print(f\"Ytest shape: {Ytest.shape}\")"
   ]
  },
  {
   "cell_type": "code",
   "execution_count": 200,
   "metadata": {},
   "outputs": [
    {
     "name": "stdout",
     "output_type": "stream",
     "text": [
      "Means shape: (10304,)\n"
     ]
    }
   ],
   "source": [
    "Xtrain_transposed = Xtrain.transpose()\n",
    "means = [np.mean(row) for row in Xtrain_transposed]\n",
    "means = np.array(means)\n",
    "print(f\"Means shape: {means.shape}\")"
   ]
  },
  {
   "cell_type": "code",
   "execution_count": 201,
   "metadata": {},
   "outputs": [
    {
     "name": "stdout",
     "output_type": "stream",
     "text": [
      "Z shape: (200, 10304)\n",
      "Covariance shape: (10304, 10304)\n"
     ]
    }
   ],
   "source": [
    "Z = Xtrain - means\n",
    "print(f\"Z shape: {Z.shape}\")\n",
    "cov = 1/len(Xtrain) * np.matmul(Z.transpose(),Z)\n",
    "print(f\"Covariance shape: {cov.shape}\")"
   ]
  },
  {
   "cell_type": "code",
   "execution_count": 202,
   "metadata": {},
   "outputs": [],
   "source": [
    "eig_values, eig_vectors = np.linalg.eigh(cov)\n",
    "idx = eig_values.argsort()[::-1]  \n",
    "eig_values = eig_values[idx]\n",
    "eig_vectors = eig_vectors[:,idx]"
   ]
  },
  {
   "cell_type": "code",
   "execution_count": 182,
   "metadata": {},
   "outputs": [],
   "source": [
    "eig_values_sorted = sorted(eig_values,reverse=True)"
   ]
  },
  {
   "cell_type": "code",
   "execution_count": 204,
   "metadata": {},
   "outputs": [],
   "source": [
    "def get_dimensions(eigen_values, alpha):\n",
    "    total = eig_values.sum()\n",
    "    sum=0\n",
    "    for i,val in enumerate(eigen_values):\n",
    "        sum+=val\n",
    "        if sum/total >= alpha:\n",
    "            break\n",
    "    return i+1"
   ]
  },
  {
   "cell_type": "code",
   "execution_count": 205,
   "metadata": {},
   "outputs": [
    {
     "data": {
      "text/plain": [
       "[35, 50, 74, 112]"
      ]
     },
     "execution_count": 205,
     "metadata": {},
     "output_type": "execute_result"
    }
   ],
   "source": [
    "alphas = [0.8,0.85,0.9,0.95]\n",
    "r = [get_dimensions(eig_values_sorted,alpha) for alpha in alphas]\n",
    "r"
   ]
  },
  {
   "cell_type": "code",
   "execution_count": 210,
   "metadata": {},
   "outputs": [],
   "source": [
    "from sklearn.neighbors import KNeighborsClassifier\n",
    "from sklearn.metrics import classification_report , accuracy_score\n",
    "from sklearn.model_selection import GridSearchCV\n",
    "p_train = []\n",
    "p_test = []\n",
    "\n",
    "for dim in (r):\n",
    "    \n",
    "    p_train_data = np.matmul(eig_vectors[:, 0:dim].T, Xtrain.T).T\n",
    "    p_test_data = np.matmul(eig_vectors[:, 0:dim].T, Xtest.T).T\n",
    "\n",
    "    p_train.append(p_train_data)\n",
    "    p_test.append(p_test_data)"
   ]
  },
  {
   "cell_type": "code",
   "execution_count": 235,
   "metadata": {},
   "outputs": [],
   "source": [
    "from sklearn.metrics import make_scorer\n",
    "\n",
    "knn = KNeighborsClassifier()\n",
    "parameters = {\"n_neighbors\":list(range(1,10,2))}\n",
    "scorer = make_scorer(accuracy_score)\n",
    "grid_search = GridSearchCV(knn,param_grid=parameters,cv=5,return_train_score=True,scoring=scorer)"
   ]
  },
  {
   "cell_type": "code",
   "execution_count": 239,
   "metadata": {},
   "outputs": [
    {
     "name": "stdout",
     "output_type": "stream",
     "text": [
      "For alpha = 0.8, best parameters are {'n_neighbors': 1} and best score is 0.8949999999999999\n",
      "For alpha = 0.85, best parameters are {'n_neighbors': 1} and best score is 0.9049999999999999\n",
      "For alpha = 0.9, best parameters are {'n_neighbors': 1} and best score is 0.9\n",
      "For alpha = 0.95, best parameters are {'n_neighbors': 1} and best score is 0.9049999999999999\n"
     ]
    }
   ],
   "source": [
    "preds = []\n",
    "for i in range(len(p_train)):\n",
    "    grid_search.fit(p_train[i],Ytrain.ravel())\n",
    "    print(f\"For alpha = {alphas[i]}, best parameters are {grid_search.best_params_} and best score is {grid_search.best_score_}\")\n",
    "    y_pred = grid_search.best_estimator_.predict(p_test[i])\n",
    "    preds.append(y_pred)"
   ]
  },
  {
   "cell_type": "code",
   "execution_count": 241,
   "metadata": {},
   "outputs": [
    {
     "name": "stdout",
     "output_type": "stream",
     "text": [
      "Test Accuracy for alpha = 0.8 is 0.93\n",
      "Test Accuracy for alpha = 0.85 is 0.94\n",
      "Test Accuracy for alpha = 0.9 is 0.945\n",
      "Test Accuracy for alpha = 0.95 is 0.935\n"
     ]
    }
   ],
   "source": [
    "for i in range(len(preds)):\n",
    "    print(f\"Test Accuracy for alpha = {alphas[i]} is {accuracy_score(Ytest.ravel(),preds[i])}\")"
   ]
  },
  {
   "cell_type": "code",
   "execution_count": null,
   "metadata": {},
   "outputs": [],
   "source": []
  }
 ],
 "metadata": {
  "kernelspec": {
   "display_name": "Python 3",
   "language": "python",
   "name": "python3"
  },
  "language_info": {
   "codemirror_mode": {
    "name": "ipython",
    "version": 3
   },
   "file_extension": ".py",
   "mimetype": "text/x-python",
   "name": "python",
   "nbconvert_exporter": "python",
   "pygments_lexer": "ipython3",
   "version": "3.8.10"
  },
  "orig_nbformat": 4
 },
 "nbformat": 4,
 "nbformat_minor": 2
}
