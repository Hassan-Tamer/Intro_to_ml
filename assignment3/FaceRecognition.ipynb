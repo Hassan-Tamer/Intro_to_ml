{
 "cells": [
  {
   "cell_type": "code",
   "execution_count": 1,
   "metadata": {},
   "outputs": [],
   "source": [
    "from torch import nn , save , load\n",
    "import torchvision\n",
    "import torch\n",
    "import numpy as np\n",
    "from tqdm.notebook import tqdm\n",
    "import torch.nn.functional as F"
   ]
  },
  {
   "cell_type": "code",
   "execution_count": 21,
   "metadata": {},
   "outputs": [],
   "source": [
    "import os\n",
    "import cv2\n",
    "import numpy as np\n",
    "\n",
    "os.remove(\"dataset/README\")"
   ]
  },
  {
   "cell_type": "code",
   "execution_count": 80,
   "metadata": {},
   "outputs": [
    {
     "name": "stdout",
     "output_type": "stream",
     "text": [
      "Images shape: (400, 10304)\n",
      "Labels shape: (400, 1)\n"
     ]
    }
   ],
   "source": [
    "# pip install natsort \n",
    "from natsort import natsorted\n",
    "\n",
    "all_images = []\n",
    "all_labels = []\n",
    "\n",
    "entries = os.listdir(\"dataset\")\n",
    "# Natsort is used to sort the images in the order of their names which the normal sort fails to do\n",
    "entries = natsorted(entries)\n",
    "for i,entry in enumerate(entries):\n",
    "    images = os.listdir(\"dataset/\"+entry)\n",
    "    images = natsorted(images)\n",
    "    for image in images:\n",
    "        # Reading the image and converting it to grayscale\n",
    "        img = cv2.imread(\"dataset/\"+entry+\"/\"+image,cv2.IMREAD_GRAYSCALE)\n",
    "        # Flastten / normalize the image\n",
    "        all_images.append(img.flatten()/255)\n",
    "        all_labels.append(i+1)\n",
    "\n",
    "# Generating Data matrix\n",
    "all_images = np.array(all_images)\n",
    "all_labels = np.array(all_labels)\n",
    "all_labels=all_labels.reshape(all_labels.shape[0],-1)\n",
    "\n",
    "print(f\"Images shape: {all_images.shape}\")\n",
    "print(f\"Labels shape: {all_labels.shape}\")"
   ]
  },
  {
   "cell_type": "code",
   "execution_count": 81,
   "metadata": {},
   "outputs": [
    {
     "name": "stdout",
     "output_type": "stream",
     "text": [
      "Xtrain shape: (200, 10304)\n",
      "Ytrain shape: (200, 1)\n",
      "Xtest shape: (200, 10304)\n",
      "Ytest shape: (200, 1)\n"
     ]
    }
   ],
   "source": [
    "# Splitting the data into train and test (Odd images for training and even images for testing) <<-- This is a bad way to do it\n",
    "Xtrain = all_images[0::2]\n",
    "Ytrain = all_labels[0::2]\n",
    "Xtest = all_images[1::2]\n",
    "Ytest = all_labels[1::2]\n",
    "\n",
    "print(f\"Xtrain shape: {Xtrain.shape}\")\n",
    "print(f\"Ytrain shape: {Ytrain.shape}\")\n",
    "print(f\"Xtest shape: {Xtest.shape}\")\n",
    "print(f\"Ytest shape: {Ytest.shape}\")"
   ]
  },
  {
   "cell_type": "code",
   "execution_count": 160,
   "metadata": {},
   "outputs": [],
   "source": [
    "Xtrain_transposed = Xtrain.transpose()\n",
    "means = [np.mean(row) for row in Xtrain_transposed]\n",
    "Z = Xtrain - means\n",
    "cov = 1/len(Xtrain) * np.matmul(Z,Z.transpose())\n",
    "eig_values, eig_vectors = np.linalg.eigh(cov)"
   ]
  },
  {
   "cell_type": "code",
   "execution_count": 161,
   "metadata": {},
   "outputs": [],
   "source": [
    "eig_values = np.flip(eig_values)"
   ]
  },
  {
   "cell_type": "code",
   "execution_count": 162,
   "metadata": {},
   "outputs": [],
   "source": [
    "def get_dimesions(eigen_values, alpha):\n",
    "    total = eig_values.sum()\n",
    "    sum=0\n",
    "    for i,val in enumerate(eigen_values):\n",
    "        sum+=val\n",
    "        if sum/total >= alpha:\n",
    "            return i\n",
    "    return i"
   ]
  },
  {
   "cell_type": "code",
   "execution_count": 167,
   "metadata": {},
   "outputs": [
    {
     "data": {
      "text/plain": [
       "[36, 51, 76, 115]"
      ]
     },
     "execution_count": 167,
     "metadata": {},
     "output_type": "execute_result"
    }
   ],
   "source": [
    "alphas = [0.8,0.85,0.9,0.95]\n",
    "r = [get_dimesions(eig_values,alpha)+1 for alpha in alphas]\n",
    "r"
   ]
  },
  {
   "cell_type": "code",
   "execution_count": 168,
   "metadata": {},
   "outputs": [],
   "source": [
    "# from sklearn.neighbors import KNeighborsClassifier\n",
    "# from sklearn.metrics import classification_report\n",
    "# idx = eig_values.argsort()[::-1]  \n",
    "# eig_values = eig_values[idx]\n",
    "# eig_vectors = eig_vectors[:,idx]\n",
    "# for x in range(len(r)):\n",
    "    \n",
    "#     p_train_data = np.matmul(eig_vectors[:, 0:r[x]].T, Xtrain.T).T\n",
    "#     p_test_data = np.matmul(eig_vectors[:, 0:r[x]].T, Xtest.T).T\n",
    "\n",
    "#     neigh = KNeighborsClassifier(n_neighbors=1)\n",
    "#     neigh.fit(p_train_data, Ytrain)\n",
    "\n",
    "#     y_pred=neigh.predict(p_test_data)\n",
    "\n",
    "#     print('accuracy for alpha = ',alphas[x])\n",
    "#     print(classification_report(Ytest, y_pred))"
   ]
  },
  {
   "cell_type": "code",
   "execution_count": null,
   "metadata": {},
   "outputs": [],
   "source": []
  }
 ],
 "metadata": {
  "kernelspec": {
   "display_name": "Python 3",
   "language": "python",
   "name": "python3"
  },
  "language_info": {
   "codemirror_mode": {
    "name": "ipython",
    "version": 3
   },
   "file_extension": ".py",
   "mimetype": "text/x-python",
   "name": "python",
   "nbconvert_exporter": "python",
   "pygments_lexer": "ipython3",
   "version": "3.8.10"
  },
  "orig_nbformat": 4
 },
 "nbformat": 4,
 "nbformat_minor": 2
}
