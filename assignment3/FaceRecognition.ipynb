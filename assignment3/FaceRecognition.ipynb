{
 "cells": [
  {
   "cell_type": "code",
   "execution_count": 191,
   "metadata": {},
   "outputs": [],
   "source": [
    "from torch import nn , save , load\n",
    "import torchvision\n",
    "import torch\n",
    "import numpy as np\n",
    "from tqdm.notebook import tqdm\n",
    "import torch.nn.functional as F"
   ]
  },
  {
   "cell_type": "code",
   "execution_count": 192,
   "metadata": {},
   "outputs": [
    {
     "name": "stdout",
     "output_type": "stream",
     "text": [
      "README not found\n"
     ]
    }
   ],
   "source": [
    "import os\n",
    "import cv2\n",
    "import numpy as np\n",
    "\n",
    "try:\n",
    "    os.remove(\"dataset/README\")\n",
    "except:\n",
    "    print(\"README not found\")"
   ]
  },
  {
   "cell_type": "code",
   "execution_count": 193,
   "metadata": {},
   "outputs": [
    {
     "name": "stdout",
     "output_type": "stream",
     "text": [
      "Images shape: (400, 10304)\n",
      "Labels shape: (400, 1)\n"
     ]
    }
   ],
   "source": [
    "# pip install natsort \n",
    "from natsort import natsorted\n",
    "\n",
    "all_images = []\n",
    "all_labels = []\n",
    "\n",
    "entries = os.listdir(\"dataset\")\n",
    "# Natsort is used to sort the images in the order of their names which the normal sort fails to do\n",
    "entries = natsorted(entries)\n",
    "for i,entry in enumerate(entries):\n",
    "    images = os.listdir(\"dataset/\"+entry)\n",
    "    images = natsorted(images)\n",
    "    for image in images:\n",
    "        # Reading the image and converting it to grayscale\n",
    "        img = cv2.imread(\"dataset/\"+entry+\"/\"+image,cv2.IMREAD_GRAYSCALE)\n",
    "        # Flastten / normalize the image\n",
    "        all_images.append(img.flatten()/255)\n",
    "        all_labels.append(i+1)\n",
    "\n",
    "# Generating Data matrix\n",
    "all_images = np.array(all_images)\n",
    "all_labels = np.array(all_labels)\n",
    "all_labels=all_labels.reshape(all_labels.shape[0],-1)\n",
    "\n",
    "print(f\"Images shape: {all_images.shape}\")\n",
    "print(f\"Labels shape: {all_labels.shape}\")"
   ]
  },
  {
   "cell_type": "code",
   "execution_count": 194,
   "metadata": {},
   "outputs": [
    {
     "name": "stdout",
     "output_type": "stream",
     "text": [
      "Xtrain shape: (200, 10304)\n",
      "Ytrain shape: (200, 1)\n",
      "Xtest shape: (200, 10304)\n",
      "Ytest shape: (200, 1)\n"
     ]
    }
   ],
   "source": [
    "# Splitting the data into train and test (Odd images for training and even images for testing) <<-- This is a bad way to do it\n",
    "Xtrain = all_images[1::2]\n",
    "Ytrain = all_labels[1::2]\n",
    "Xtest = all_images[0::2]\n",
    "Ytest = all_labels[0::2]\n",
    "\n",
    "print(f\"Xtrain shape: {Xtrain.shape}\")\n",
    "print(f\"Ytrain shape: {Ytrain.shape}\")\n",
    "print(f\"Xtest shape: {Xtest.shape}\")\n",
    "print(f\"Ytest shape: {Ytest.shape}\")"
   ]
  },
  {
   "cell_type": "code",
   "execution_count": 200,
   "metadata": {},
   "outputs": [
    {
     "name": "stdout",
     "output_type": "stream",
     "text": [
      "Means shape: (10304,)\n"
     ]
    }
   ],
   "source": [
    "Xtrain_transposed = Xtrain.transpose()\n",
    "means = [np.mean(row) for row in Xtrain_transposed]\n",
    "means = np.array(means)\n",
    "print(f\"Means shape: {means.shape}\")"
   ]
  },
  {
   "cell_type": "code",
   "execution_count": 201,
   "metadata": {},
   "outputs": [
    {
     "name": "stdout",
     "output_type": "stream",
     "text": [
      "Z shape: (200, 10304)\n",
      "Covariance shape: (10304, 10304)\n"
     ]
    }
   ],
   "source": [
    "Z = Xtrain - means\n",
    "print(f\"Z shape: {Z.shape}\")\n",
    "cov = 1/len(Xtrain) * np.matmul(Z.transpose(),Z)\n",
    "print(f\"Covariance shape: {cov.shape}\")"
   ]
  },
  {
   "cell_type": "code",
   "execution_count": 202,
   "metadata": {},
   "outputs": [],
   "source": [
    "eig_values, eig_vectors = np.linalg.eigh(cov)\n",
    "idx = eig_values.argsort()[::-1]  \n",
    "eig_values = eig_values[idx]\n",
    "eig_vectors = eig_vectors[:,idx]"
   ]
  },
  {
   "cell_type": "code",
   "execution_count": 182,
   "metadata": {},
   "outputs": [],
   "source": [
    "eig_values_sorted = sorted(eig_values,reverse=True)"
   ]
  },
  {
   "cell_type": "code",
   "execution_count": 204,
   "metadata": {},
   "outputs": [],
   "source": [
    "def get_dimensions(eigen_values, alpha):\n",
    "    total = eig_values.sum()\n",
    "    sum=0\n",
    "    for i,val in enumerate(eigen_values):\n",
    "        sum+=val\n",
    "        if sum/total >= alpha:\n",
    "            break\n",
    "    return i+1"
   ]
  },
  {
   "cell_type": "code",
   "execution_count": 205,
   "metadata": {},
   "outputs": [
    {
     "data": {
      "text/plain": [
       "[35, 50, 74, 112]"
      ]
     },
     "execution_count": 205,
     "metadata": {},
     "output_type": "execute_result"
    }
   ],
   "source": [
    "alphas = [0.8,0.85,0.9,0.95]\n",
    "r = [get_dimensions(eig_values_sorted,alpha) for alpha in alphas]\n",
    "r"
   ]
  },
  {
   "cell_type": "code",
   "execution_count": 207,
   "metadata": {},
   "outputs": [
    {
     "name": "stderr",
     "output_type": "stream",
     "text": [
      "/home/hassan/.local/lib/python3.8/site-packages/sklearn/neighbors/_classification.py:228: DataConversionWarning: A column-vector y was passed when a 1d array was expected. Please change the shape of y to (n_samples,), for example using ravel().\n",
      "  return self._fit(X, y)\n",
      "/home/hassan/.local/lib/python3.8/site-packages/sklearn/neighbors/_classification.py:228: DataConversionWarning: A column-vector y was passed when a 1d array was expected. Please change the shape of y to (n_samples,), for example using ravel().\n",
      "  return self._fit(X, y)\n",
      "/home/hassan/.local/lib/python3.8/site-packages/sklearn/neighbors/_classification.py:228: DataConversionWarning: A column-vector y was passed when a 1d array was expected. Please change the shape of y to (n_samples,), for example using ravel().\n",
      "  return self._fit(X, y)\n"
     ]
    },
    {
     "name": "stdout",
     "output_type": "stream",
     "text": [
      "accuracy for alpha =  0.8\n",
      "              precision    recall  f1-score   support\n",
      "\n",
      "           1       1.00      0.60      0.75         5\n",
      "           2       0.71      1.00      0.83         5\n",
      "           3       0.83      1.00      0.91         5\n",
      "           4       1.00      1.00      1.00         5\n",
      "           5       0.62      1.00      0.77         5\n",
      "           6       1.00      1.00      1.00         5\n",
      "           7       0.71      1.00      0.83         5\n",
      "           8       1.00      1.00      1.00         5\n",
      "           9       1.00      1.00      1.00         5\n",
      "          10       1.00      0.80      0.89         5\n",
      "          11       1.00      1.00      1.00         5\n",
      "          12       1.00      1.00      1.00         5\n",
      "          13       1.00      1.00      1.00         5\n",
      "          14       1.00      1.00      1.00         5\n",
      "          15       0.83      1.00      0.91         5\n",
      "          16       0.83      1.00      0.91         5\n",
      "          17       1.00      1.00      1.00         5\n",
      "          18       1.00      1.00      1.00         5\n",
      "          19       1.00      0.80      0.89         5\n",
      "          20       1.00      0.80      0.89         5\n",
      "          21       0.83      1.00      0.91         5\n",
      "          22       1.00      1.00      1.00         5\n",
      "          23       1.00      1.00      1.00         5\n",
      "          24       1.00      1.00      1.00         5\n",
      "          25       1.00      1.00      1.00         5\n",
      "          26       1.00      1.00      1.00         5\n",
      "          27       1.00      1.00      1.00         5\n",
      "          28       1.00      1.00      1.00         5\n",
      "          29       1.00      1.00      1.00         5\n",
      "          30       1.00      1.00      1.00         5\n",
      "          31       1.00      0.80      0.89         5\n",
      "          32       1.00      0.80      0.89         5\n",
      "          33       1.00      1.00      1.00         5\n",
      "          34       1.00      1.00      1.00         5\n",
      "          35       1.00      0.60      0.75         5\n",
      "          36       0.75      0.60      0.67         5\n",
      "          37       1.00      1.00      1.00         5\n",
      "          38       0.83      1.00      0.91         5\n",
      "          39       1.00      1.00      1.00         5\n",
      "          40       0.67      0.40      0.50         5\n",
      "\n",
      "    accuracy                           0.93       200\n",
      "   macro avg       0.94      0.93      0.93       200\n",
      "weighted avg       0.94      0.93      0.93       200\n",
      "\n",
      "accuracy for alpha =  0.85\n",
      "              precision    recall  f1-score   support\n",
      "\n",
      "           1       1.00      0.60      0.75         5\n",
      "           2       1.00      1.00      1.00         5\n",
      "           3       0.83      1.00      0.91         5\n",
      "           4       1.00      1.00      1.00         5\n",
      "           5       0.62      1.00      0.77         5\n",
      "           6       1.00      1.00      1.00         5\n",
      "           7       0.71      1.00      0.83         5\n",
      "           8       1.00      1.00      1.00         5\n",
      "           9       1.00      1.00      1.00         5\n",
      "          10       1.00      0.80      0.89         5\n",
      "          11       1.00      1.00      1.00         5\n",
      "          12       1.00      1.00      1.00         5\n",
      "          13       1.00      1.00      1.00         5\n",
      "          14       1.00      1.00      1.00         5\n",
      "          15       1.00      1.00      1.00         5\n",
      "          16       0.83      1.00      0.91         5\n",
      "          17       1.00      1.00      1.00         5\n",
      "          18       1.00      1.00      1.00         5\n",
      "          19       1.00      0.80      0.89         5\n",
      "          20       1.00      0.80      0.89         5\n",
      "          21       0.83      1.00      0.91         5\n",
      "          22       1.00      1.00      1.00         5\n",
      "          23       1.00      1.00      1.00         5\n",
      "          24       1.00      1.00      1.00         5\n",
      "          25       1.00      1.00      1.00         5\n",
      "          26       1.00      1.00      1.00         5\n",
      "          27       1.00      1.00      1.00         5\n",
      "          28       1.00      1.00      1.00         5\n",
      "          29       1.00      1.00      1.00         5\n",
      "          30       1.00      1.00      1.00         5\n",
      "          31       1.00      0.80      0.89         5\n",
      "          32       0.83      1.00      0.91         5\n",
      "          33       1.00      1.00      1.00         5\n",
      "          34       1.00      1.00      1.00         5\n",
      "          35       1.00      0.80      0.89         5\n",
      "          36       0.75      0.60      0.67         5\n",
      "          37       1.00      1.00      1.00         5\n",
      "          38       0.83      1.00      0.91         5\n",
      "          39       1.00      1.00      1.00         5\n",
      "          40       0.67      0.40      0.50         5\n",
      "\n",
      "    accuracy                           0.94       200\n",
      "   macro avg       0.95      0.94      0.94       200\n",
      "weighted avg       0.95      0.94      0.94       200\n",
      "\n",
      "accuracy for alpha =  0.9\n",
      "              precision    recall  f1-score   support\n",
      "\n",
      "           1       1.00      0.60      0.75         5\n",
      "           2       0.83      1.00      0.91         5\n",
      "           3       0.83      1.00      0.91         5\n",
      "           4       1.00      1.00      1.00         5\n",
      "           5       0.62      1.00      0.77         5\n",
      "           6       1.00      1.00      1.00         5\n",
      "           7       0.83      1.00      0.91         5\n",
      "           8       0.83      1.00      0.91         5\n",
      "           9       1.00      1.00      1.00         5\n",
      "          10       1.00      0.80      0.89         5\n",
      "          11       1.00      1.00      1.00         5\n",
      "          12       1.00      1.00      1.00         5\n",
      "          13       1.00      1.00      1.00         5\n",
      "          14       1.00      1.00      1.00         5\n",
      "          15       1.00      1.00      1.00         5\n",
      "          16       0.83      1.00      0.91         5\n",
      "          17       1.00      1.00      1.00         5\n",
      "          18       1.00      1.00      1.00         5\n",
      "          19       1.00      0.80      0.89         5\n",
      "          20       1.00      0.80      0.89         5\n",
      "          21       0.83      1.00      0.91         5\n",
      "          22       1.00      1.00      1.00         5\n",
      "          23       1.00      1.00      1.00         5\n",
      "          24       1.00      1.00      1.00         5\n",
      "          25       1.00      1.00      1.00         5\n",
      "          26       1.00      1.00      1.00         5\n",
      "          27       1.00      1.00      1.00         5\n",
      "          28       1.00      1.00      1.00         5\n",
      "          29       1.00      1.00      1.00         5\n",
      "          30       1.00      1.00      1.00         5\n",
      "          31       1.00      0.80      0.89         5\n",
      "          32       1.00      1.00      1.00         5\n",
      "          33       1.00      1.00      1.00         5\n",
      "          34       1.00      1.00      1.00         5\n",
      "          35       1.00      0.80      0.89         5\n",
      "          36       1.00      0.80      0.89         5\n",
      "          37       1.00      1.00      1.00         5\n",
      "          38       0.83      1.00      0.91         5\n",
      "          39       1.00      1.00      1.00         5\n",
      "          40       0.67      0.40      0.50         5\n",
      "\n",
      "    accuracy                           0.94       200\n",
      "   macro avg       0.95      0.94      0.94       200\n",
      "weighted avg       0.95      0.94      0.94       200\n",
      "\n",
      "accuracy for alpha =  0.95\n",
      "              precision    recall  f1-score   support\n",
      "\n",
      "           1       1.00      0.60      0.75         5\n",
      "           2       0.71      1.00      0.83         5\n",
      "           3       0.83      1.00      0.91         5\n",
      "           4       1.00      1.00      1.00         5\n",
      "           5       0.62      1.00      0.77         5\n",
      "           6       1.00      1.00      1.00         5\n",
      "           7       0.83      1.00      0.91         5\n",
      "           8       0.83      1.00      0.91         5\n",
      "           9       1.00      1.00      1.00         5\n",
      "          10       1.00      0.80      0.89         5\n",
      "          11       1.00      1.00      1.00         5\n",
      "          12       1.00      1.00      1.00         5\n",
      "          13       1.00      1.00      1.00         5\n",
      "          14       1.00      1.00      1.00         5\n",
      "          15       1.00      1.00      1.00         5\n",
      "          16       0.83      1.00      0.91         5\n",
      "          17       1.00      1.00      1.00         5\n",
      "          18       1.00      1.00      1.00         5\n",
      "          19       1.00      0.80      0.89         5\n",
      "          20       1.00      0.80      0.89         5\n",
      "          21       1.00      1.00      1.00         5\n",
      "          22       1.00      1.00      1.00         5\n",
      "          23       0.83      1.00      0.91         5\n",
      "          24       1.00      1.00      1.00         5\n",
      "          25       1.00      1.00      1.00         5\n",
      "          26       1.00      1.00      1.00         5\n",
      "          27       1.00      1.00      1.00         5\n",
      "          28       1.00      1.00      1.00         5\n",
      "          29       1.00      1.00      1.00         5\n",
      "          30       0.83      1.00      0.91         5\n",
      "          31       1.00      0.80      0.89         5\n",
      "          32       1.00      0.80      0.89         5\n",
      "          33       1.00      1.00      1.00         5\n",
      "          34       1.00      1.00      1.00         5\n",
      "          35       1.00      0.80      0.89         5\n",
      "          36       1.00      0.80      0.89         5\n",
      "          37       1.00      1.00      1.00         5\n",
      "          38       0.80      0.80      0.80         5\n",
      "          39       1.00      1.00      1.00         5\n",
      "          40       0.67      0.40      0.50         5\n",
      "\n",
      "    accuracy                           0.94       200\n",
      "   macro avg       0.95      0.93      0.93       200\n",
      "weighted avg       0.95      0.94      0.93       200\n",
      "\n"
     ]
    },
    {
     "name": "stderr",
     "output_type": "stream",
     "text": [
      "/home/hassan/.local/lib/python3.8/site-packages/sklearn/neighbors/_classification.py:228: DataConversionWarning: A column-vector y was passed when a 1d array was expected. Please change the shape of y to (n_samples,), for example using ravel().\n",
      "  return self._fit(X, y)\n"
     ]
    }
   ],
   "source": [
    "from sklearn.neighbors import KNeighborsClassifier\n",
    "from sklearn.metrics import classification_report\n",
    "\n",
    "for x in range(len(r)):\n",
    "    \n",
    "    p_train_data = np.matmul(eig_vectors[:, 0:r[x]].T, Xtrain.T).T\n",
    "    p_test_data = np.matmul(eig_vectors[:, 0:r[x]].T, Xtest.T).T\n",
    "\n",
    "    neigh = KNeighborsClassifier(n_neighbors=1)\n",
    "    neigh.fit(p_train_data, Ytrain)\n",
    "\n",
    "    y_pred=neigh.predict(p_test_data)\n",
    "\n",
    "    print('accuracy for alpha = ',alphas[x])\n",
    "    print(classification_report(Ytest, y_pred))"
   ]
  },
  {
   "cell_type": "code",
   "execution_count": null,
   "metadata": {},
   "outputs": [],
   "source": []
  }
 ],
 "metadata": {
  "kernelspec": {
   "display_name": "Python 3",
   "language": "python",
   "name": "python3"
  },
  "language_info": {
   "codemirror_mode": {
    "name": "ipython",
    "version": 3
   },
   "file_extension": ".py",
   "mimetype": "text/x-python",
   "name": "python",
   "nbconvert_exporter": "python",
   "pygments_lexer": "ipython3",
   "version": "3.8.10"
  },
  "orig_nbformat": 4
 },
 "nbformat": 4,
 "nbformat_minor": 2
}
