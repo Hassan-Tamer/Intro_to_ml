{
 "cells": [
  {
   "cell_type": "code",
   "execution_count": 43,
   "metadata": {},
   "outputs": [],
   "source": [
    "import numpy as np\n",
    "from sklearn.model_selection import train_test_split\n"
   ]
  },
  {
   "cell_type": "code",
   "execution_count": 44,
   "metadata": {},
   "outputs": [
    {
     "name": "stdout",
     "output_type": "stream",
     "text": [
      "README not found\n"
     ]
    }
   ],
   "source": [
    "import os\n",
    "import cv2\n",
    "\n",
    "try:\n",
    "    os.remove(\"dataset/README\")\n",
    "except:\n",
    "    print(\"README not found\")"
   ]
  },
  {
   "cell_type": "code",
   "execution_count": 58,
   "metadata": {},
   "outputs": [
    {
     "name": "stdout",
     "output_type": "stream",
     "text": [
      "Images shape: (400, 10304)\n",
      "Labels shape: (400, 1)\n"
     ]
    }
   ],
   "source": [
    "# pip install natsort \n",
    "from natsort import natsorted\n",
    "\n",
    "all_images = []\n",
    "all_labels = []\n",
    "\n",
    "entries = os.listdir(\"dataset\")\n",
    "# Natsort is used to sort the images in the order of their names which the normal sort fails to do\n",
    "entries = natsorted(entries)\n",
    "for i,entry in enumerate(entries):\n",
    "    images = os.listdir(\"dataset/\"+entry)\n",
    "    images = natsorted(images)\n",
    "    for image in images:\n",
    "        # Reading the image and converting it to grayscale\n",
    "        img = cv2.imread(\"dataset/\"+entry+\"/\"+image,cv2.IMREAD_GRAYSCALE)\n",
    "        # Flatten / normalize the image\n",
    "        all_images.append(img.flatten()/255)\n",
    "        all_labels.append(i+1)\n",
    "\n",
    "# Generating Data matrix\n",
    "all_images = np.array(all_images)\n",
    "all_labels = np.array(all_labels)\n",
    "all_labels=all_labels.reshape(all_labels.shape[0],-1)\n",
    "\n",
    "print(f\"Images shape: {all_images.shape}\")\n",
    "print(f\"Labels shape: {all_labels.shape}\")"
   ]
  },
  {
   "cell_type": "code",
   "execution_count": 59,
   "metadata": {},
   "outputs": [
    {
     "name": "stdout",
     "output_type": "stream",
     "text": [
      "Xtrain shape: (280, 10304)\n",
      "Ytrain shape: (280, 1)\n",
      "Xtest shape: (120, 10304)\n",
      "Ytest shape: (120, 1)\n"
     ]
    }
   ],
   "source": [
    "# Splitting the data into train and test (70% for training and 30% images for testing)\n",
    "X = all_images\n",
    "Y = all_labels\n",
    "Xtrain,Xtest,Ytrain,Ytest=train_test_split(X,Y,test_size=0.3)\n",
    "\n",
    "print(f\"Xtrain shape: {Xtrain.shape}\")\n",
    "print(f\"Ytrain shape: {Ytrain.shape}\")\n",
    "print(f\"Xtest shape: {Xtest.shape}\")\n",
    "print(f\"Ytest shape: {Ytest.shape}\")"
   ]
  },
  {
   "cell_type": "code",
   "execution_count": 60,
   "metadata": {},
   "outputs": [
    {
     "name": "stdout",
     "output_type": "stream",
     "text": [
      "Means shape: (10304,)\n"
     ]
    }
   ],
   "source": [
    "Xtrain_transposed = Xtrain.transpose()\n",
    "means = [np.mean(row) for row in Xtrain_transposed]\n",
    "means = np.array(means)\n",
    "print(f\"Means shape: {means.shape}\")"
   ]
  },
  {
   "cell_type": "code",
   "execution_count": 61,
   "metadata": {},
   "outputs": [
    {
     "name": "stdout",
     "output_type": "stream",
     "text": [
      "Z shape: (280, 10304)\n",
      "Covariance shape: (10304, 10304)\n"
     ]
    }
   ],
   "source": [
    "Z = Xtrain - means\n",
    "print(f\"Z shape: {Z.shape}\")\n",
    "cov = 1/len(Xtrain) * np.matmul(Z.transpose(),Z)\n",
    "print(f\"Covariance shape: {cov.shape}\")"
   ]
  },
  {
   "cell_type": "code",
   "execution_count": 62,
   "metadata": {},
   "outputs": [],
   "source": [
    "eig_values, eig_vectors = np.linalg.eigh(cov)\n",
    "idx = eig_values.argsort()[::-1]  \n",
    "eig_values = eig_values[idx]\n",
    "eig_vectors = eig_vectors[:,idx]"
   ]
  },
  {
   "cell_type": "code",
   "execution_count": 63,
   "metadata": {},
   "outputs": [],
   "source": [
    "def get_dimensions(eigen_values, alpha):\n",
    "    total = eig_values.sum()\n",
    "    sum=0\n",
    "    for i,val in enumerate(eigen_values):\n",
    "        sum+=val\n",
    "        if sum/total >= alpha:\n",
    "            break\n",
    "    return i+1"
   ]
  },
  {
   "cell_type": "code",
   "execution_count": 64,
   "metadata": {},
   "outputs": [
    {
     "data": {
      "text/plain": [
       "[40, 59, 91, 148]"
      ]
     },
     "execution_count": 64,
     "metadata": {},
     "output_type": "execute_result"
    }
   ],
   "source": [
    "alphas = [0.8,0.85,0.9,0.95]\n",
    "r = [get_dimensions(eig_values,alpha) for alpha in alphas]\n",
    "r"
   ]
  },
  {
   "cell_type": "code",
   "execution_count": 65,
   "metadata": {},
   "outputs": [],
   "source": [
    "from sklearn.neighbors import KNeighborsClassifier\n",
    "from sklearn.metrics import classification_report , accuracy_score\n",
    "from sklearn.model_selection import GridSearchCV\n",
    "p_train = []\n",
    "p_test = []\n",
    "\n",
    "for dim in (r):\n",
    "    \n",
    "    p_train_data = np.matmul(eig_vectors[:, 0:dim].T, Xtrain.T).T\n",
    "    p_test_data = np.matmul(eig_vectors[:, 0:dim].T, Xtest.T).T\n",
    "\n",
    "    p_train.append(p_train_data)\n",
    "    p_test.append(p_test_data)"
   ]
  },
  {
   "cell_type": "code",
   "execution_count": 66,
   "metadata": {},
   "outputs": [],
   "source": [
    "from sklearn.metrics import make_scorer\n",
    "\n",
    "knn = KNeighborsClassifier()\n",
    "parameters = {\"n_neighbors\":list(range(1,10,2))}\n",
    "scorer = make_scorer(accuracy_score)\n",
    "grid_search = GridSearchCV(knn,param_grid=parameters,cv=5,return_train_score=True,scoring=scorer)"
   ]
  },
  {
   "cell_type": "code",
   "execution_count": 67,
   "metadata": {},
   "outputs": [
    {
     "name": "stderr",
     "output_type": "stream",
     "text": [
      "c:\\Users\\carin\\AppData\\Local\\Programs\\Python\\Python311\\Lib\\site-packages\\sklearn\\model_selection\\_split.py:725: UserWarning: The least populated class in y has only 4 members, which is less than n_splits=5.\n",
      "  warnings.warn(\n"
     ]
    },
    {
     "name": "stdout",
     "output_type": "stream",
     "text": [
      "For alpha = 0.8, best parameters are {'n_neighbors': 1} and best score is 0.9428571428571428\n"
     ]
    },
    {
     "name": "stderr",
     "output_type": "stream",
     "text": [
      "c:\\Users\\carin\\AppData\\Local\\Programs\\Python\\Python311\\Lib\\site-packages\\sklearn\\model_selection\\_split.py:725: UserWarning: The least populated class in y has only 4 members, which is less than n_splits=5.\n",
      "  warnings.warn(\n"
     ]
    },
    {
     "name": "stdout",
     "output_type": "stream",
     "text": [
      "For alpha = 0.85, best parameters are {'n_neighbors': 1} and best score is 0.9464285714285715\n"
     ]
    },
    {
     "name": "stderr",
     "output_type": "stream",
     "text": [
      "c:\\Users\\carin\\AppData\\Local\\Programs\\Python\\Python311\\Lib\\site-packages\\sklearn\\model_selection\\_split.py:725: UserWarning: The least populated class in y has only 4 members, which is less than n_splits=5.\n",
      "  warnings.warn(\n"
     ]
    },
    {
     "name": "stdout",
     "output_type": "stream",
     "text": [
      "For alpha = 0.9, best parameters are {'n_neighbors': 1} and best score is 0.9464285714285714\n"
     ]
    },
    {
     "name": "stderr",
     "output_type": "stream",
     "text": [
      "c:\\Users\\carin\\AppData\\Local\\Programs\\Python\\Python311\\Lib\\site-packages\\sklearn\\model_selection\\_split.py:725: UserWarning: The least populated class in y has only 4 members, which is less than n_splits=5.\n",
      "  warnings.warn(\n"
     ]
    },
    {
     "name": "stdout",
     "output_type": "stream",
     "text": [
      "For alpha = 0.95, best parameters are {'n_neighbors': 1} and best score is 0.9392857142857143\n"
     ]
    }
   ],
   "source": [
    "preds = []\n",
    "for i in range(len(p_train)):\n",
    "    grid_search.fit(p_train[i],Ytrain.ravel())\n",
    "    print(f\"For alpha = {alphas[i]}, best parameters are {grid_search.best_params_} and best score is {grid_search.best_score_}\")\n",
    "    y_pred = grid_search.best_estimator_.predict(p_test[i])\n",
    "    preds.append(y_pred)"
   ]
  },
  {
   "cell_type": "code",
   "execution_count": 68,
   "metadata": {},
   "outputs": [
    {
     "name": "stdout",
     "output_type": "stream",
     "text": [
      "Test Accuracy for alpha = 0.8 is 0.975\n",
      "Test Accuracy for alpha = 0.85 is 0.9666666666666667\n",
      "Test Accuracy for alpha = 0.9 is 0.9666666666666667\n",
      "Test Accuracy for alpha = 0.95 is 0.975\n"
     ]
    }
   ],
   "source": [
    "for i in range(len(preds)):\n",
    "    print(f\"Test Accuracy for alpha = {alphas[i]} is {accuracy_score(Ytest.ravel(),preds[i])}\")"
   ]
  },
  {
   "cell_type": "code",
   "execution_count": 71,
   "metadata": {},
   "outputs": [
    {
     "name": "stdout",
     "output_type": "stream",
     "text": [
      "accuracy for alpha with number --> 0.8\n",
      "              precision    recall  f1-score   support\n",
      "\n",
      "           1       1.00      1.00      1.00         1\n",
      "           2       1.00      1.00      1.00         3\n",
      "           3       1.00      1.00      1.00         3\n",
      "           4       1.00      1.00      1.00         6\n",
      "           5       1.00      1.00      1.00         4\n",
      "           6       1.00      1.00      1.00         2\n",
      "           7       1.00      1.00      1.00         1\n",
      "           8       1.00      1.00      1.00         3\n",
      "           9       1.00      1.00      1.00         3\n",
      "          10       1.00      0.80      0.89         5\n",
      "          11       1.00      1.00      1.00         3\n",
      "          12       1.00      1.00      1.00         4\n",
      "          13       1.00      1.00      1.00         2\n",
      "          14       1.00      1.00      1.00         6\n",
      "          15       0.80      1.00      0.89         4\n",
      "          16       1.00      1.00      1.00         3\n",
      "          17       1.00      1.00      1.00         3\n",
      "          18       1.00      1.00      1.00         3\n",
      "          19       1.00      1.00      1.00         5\n",
      "          20       1.00      1.00      1.00         2\n",
      "          21       1.00      1.00      1.00         3\n",
      "          22       1.00      1.00      1.00         4\n",
      "          23       1.00      1.00      1.00         4\n",
      "          24       1.00      1.00      1.00         2\n",
      "          25       1.00      1.00      1.00         1\n",
      "          26       1.00      1.00      1.00         2\n",
      "          27       1.00      1.00      1.00         5\n",
      "          28       1.00      1.00      1.00         6\n",
      "          29       1.00      1.00      1.00         1\n",
      "          30       1.00      1.00      1.00         4\n",
      "          31       1.00      1.00      1.00         2\n",
      "          32       1.00      1.00      1.00         1\n",
      "          33       1.00      1.00      1.00         2\n",
      "          34       1.00      1.00      1.00         2\n",
      "          35       1.00      0.60      0.75         5\n",
      "          36       1.00      1.00      1.00         1\n",
      "          37       1.00      1.00      1.00         4\n",
      "          38       0.50      1.00      0.67         1\n",
      "          39       1.00      1.00      1.00         4\n",
      "          40       0.00      0.00      0.00         0\n",
      "\n",
      "    accuracy                           0.97       120\n",
      "   macro avg       0.96      0.96      0.95       120\n",
      "weighted avg       0.99      0.97      0.98       120\n",
      "\n",
      "accuracy for alpha with number --> 0.85\n",
      "              precision    recall  f1-score   support\n",
      "\n",
      "           1       1.00      1.00      1.00         1\n",
      "           2       1.00      1.00      1.00         3\n",
      "           3       1.00      1.00      1.00         3\n",
      "           4       1.00      1.00      1.00         6\n",
      "           5       1.00      1.00      1.00         4\n",
      "           6       1.00      1.00      1.00         2\n",
      "           7       1.00      1.00      1.00         1\n",
      "           8       1.00      1.00      1.00         3\n",
      "           9       1.00      1.00      1.00         3\n",
      "          10       1.00      0.80      0.89         5\n",
      "          11       1.00      1.00      1.00         3\n",
      "          12       1.00      1.00      1.00         4\n",
      "          13       1.00      1.00      1.00         2\n",
      "          14       1.00      1.00      1.00         6\n",
      "          15       0.80      1.00      0.89         4\n",
      "          16       1.00      1.00      1.00         3\n",
      "          17       0.75      1.00      0.86         3\n",
      "          18       1.00      1.00      1.00         3\n",
      "          19       1.00      1.00      1.00         5\n",
      "          20       1.00      1.00      1.00         2\n",
      "          21       1.00      1.00      1.00         3\n",
      "          22       1.00      1.00      1.00         4\n",
      "          23       1.00      1.00      1.00         4\n",
      "          24       1.00      1.00      1.00         2\n",
      "          25       1.00      1.00      1.00         1\n",
      "          26       1.00      1.00      1.00         2\n",
      "          27       1.00      1.00      1.00         5\n",
      "          28       1.00      0.83      0.91         6\n",
      "          29       1.00      1.00      1.00         1\n",
      "          30       1.00      1.00      1.00         4\n",
      "          31       1.00      1.00      1.00         2\n",
      "          32       1.00      1.00      1.00         1\n",
      "          33       1.00      1.00      1.00         2\n",
      "          34       1.00      1.00      1.00         2\n",
      "          35       1.00      0.60      0.75         5\n",
      "          36       1.00      1.00      1.00         1\n",
      "          37       1.00      1.00      1.00         4\n",
      "          38       0.50      1.00      0.67         1\n",
      "          39       1.00      1.00      1.00         4\n",
      "          40       0.00      0.00      0.00         0\n",
      "\n",
      "    accuracy                           0.97       120\n",
      "   macro avg       0.95      0.96      0.95       120\n",
      "weighted avg       0.98      0.97      0.97       120\n",
      "\n",
      "accuracy for alpha with number --> 0.9\n",
      "              precision    recall  f1-score   support\n",
      "\n",
      "           1       1.00      1.00      1.00         1\n",
      "           2       1.00      1.00      1.00         3\n",
      "           3       1.00      1.00      1.00         3\n",
      "           4       1.00      1.00      1.00         6\n",
      "           5       1.00      1.00      1.00         4\n",
      "           6       1.00      1.00      1.00         2\n",
      "           7       1.00      1.00      1.00         1\n",
      "           8       1.00      1.00      1.00         3\n",
      "           9       1.00      1.00      1.00         3\n",
      "          10       1.00      0.80      0.89         5\n",
      "          11       1.00      1.00      1.00         3\n",
      "          12       1.00      1.00      1.00         4\n",
      "          13       1.00      1.00      1.00         2\n",
      "          14       1.00      1.00      1.00         6\n",
      "          15       0.80      1.00      0.89         4\n",
      "          16       1.00      1.00      1.00         3\n",
      "          17       0.75      1.00      0.86         3\n",
      "          18       1.00      1.00      1.00         3\n",
      "          19       1.00      1.00      1.00         5\n",
      "          20       1.00      1.00      1.00         2\n",
      "          21       1.00      1.00      1.00         3\n",
      "          22       1.00      1.00      1.00         4\n",
      "          23       1.00      1.00      1.00         4\n",
      "          24       1.00      1.00      1.00         2\n",
      "          25       1.00      1.00      1.00         1\n",
      "          26       1.00      1.00      1.00         2\n",
      "          27       1.00      1.00      1.00         5\n",
      "          28       1.00      0.83      0.91         6\n",
      "          29       1.00      1.00      1.00         1\n",
      "          30       1.00      1.00      1.00         4\n",
      "          31       1.00      1.00      1.00         2\n",
      "          32       1.00      1.00      1.00         1\n",
      "          33       1.00      1.00      1.00         2\n",
      "          34       1.00      1.00      1.00         2\n",
      "          35       1.00      0.60      0.75         5\n",
      "          36       1.00      1.00      1.00         1\n",
      "          37       1.00      1.00      1.00         4\n",
      "          38       0.50      1.00      0.67         1\n",
      "          39       1.00      1.00      1.00         4\n",
      "          40       0.00      0.00      0.00         0\n",
      "\n",
      "    accuracy                           0.97       120\n",
      "   macro avg       0.95      0.96      0.95       120\n",
      "weighted avg       0.98      0.97      0.97       120\n",
      "\n",
      "accuracy for alpha with number --> 0.95\n",
      "              precision    recall  f1-score   support\n",
      "\n",
      "           1       1.00      1.00      1.00         1\n",
      "           2       1.00      1.00      1.00         3\n",
      "           3       1.00      1.00      1.00         3\n",
      "           4       1.00      1.00      1.00         6\n",
      "           5       1.00      1.00      1.00         4\n",
      "           6       1.00      1.00      1.00         2\n",
      "           7       1.00      1.00      1.00         1\n",
      "           8       1.00      1.00      1.00         3\n",
      "           9       1.00      1.00      1.00         3\n",
      "          10       1.00      0.80      0.89         5\n",
      "          11       1.00      1.00      1.00         3\n",
      "          12       1.00      1.00      1.00         4\n",
      "          13       1.00      1.00      1.00         2\n",
      "          14       1.00      1.00      1.00         6\n",
      "          15       1.00      1.00      1.00         4\n",
      "          16       1.00      1.00      1.00         3\n",
      "          17       0.75      1.00      0.86         3\n",
      "          18       1.00      1.00      1.00         3\n",
      "          19       1.00      1.00      1.00         5\n",
      "          20       1.00      1.00      1.00         2\n",
      "          21       1.00      1.00      1.00         3\n",
      "          22       1.00      1.00      1.00         4\n",
      "          23       1.00      1.00      1.00         4\n",
      "          24       1.00      1.00      1.00         2\n",
      "          25       1.00      1.00      1.00         1\n",
      "          26       1.00      1.00      1.00         2\n",
      "          27       1.00      1.00      1.00         5\n",
      "          28       1.00      0.83      0.91         6\n",
      "          29       1.00      1.00      1.00         1\n",
      "          30       1.00      1.00      1.00         4\n",
      "          31       1.00      1.00      1.00         2\n",
      "          32       1.00      1.00      1.00         1\n",
      "          33       1.00      1.00      1.00         2\n",
      "          34       1.00      1.00      1.00         2\n",
      "          35       1.00      0.80      0.89         5\n",
      "          36       1.00      1.00      1.00         1\n",
      "          37       1.00      1.00      1.00         4\n",
      "          38       0.50      1.00      0.67         1\n",
      "          39       1.00      1.00      1.00         4\n",
      "          40       0.00      0.00      0.00         0\n",
      "\n",
      "    accuracy                           0.97       120\n",
      "   macro avg       0.96      0.96      0.96       120\n",
      "weighted avg       0.99      0.97      0.98       120\n",
      "\n"
     ]
    },
    {
     "name": "stderr",
     "output_type": "stream",
     "text": [
      "c:\\Users\\carin\\AppData\\Local\\Programs\\Python\\Python311\\Lib\\site-packages\\sklearn\\neighbors\\_classification.py:228: DataConversionWarning: A column-vector y was passed when a 1d array was expected. Please change the shape of y to (n_samples,), for example using ravel().\n",
      "  return self._fit(X, y)\n",
      "c:\\Users\\carin\\AppData\\Local\\Programs\\Python\\Python311\\Lib\\site-packages\\sklearn\\metrics\\_classification.py:1469: UndefinedMetricWarning: Recall and F-score are ill-defined and being set to 0.0 in labels with no true samples. Use `zero_division` parameter to control this behavior.\n",
      "  _warn_prf(average, modifier, msg_start, len(result))\n",
      "c:\\Users\\carin\\AppData\\Local\\Programs\\Python\\Python311\\Lib\\site-packages\\sklearn\\metrics\\_classification.py:1469: UndefinedMetricWarning: Recall and F-score are ill-defined and being set to 0.0 in labels with no true samples. Use `zero_division` parameter to control this behavior.\n",
      "  _warn_prf(average, modifier, msg_start, len(result))\n",
      "c:\\Users\\carin\\AppData\\Local\\Programs\\Python\\Python311\\Lib\\site-packages\\sklearn\\metrics\\_classification.py:1469: UndefinedMetricWarning: Recall and F-score are ill-defined and being set to 0.0 in labels with no true samples. Use `zero_division` parameter to control this behavior.\n",
      "  _warn_prf(average, modifier, msg_start, len(result))\n",
      "c:\\Users\\carin\\AppData\\Local\\Programs\\Python\\Python311\\Lib\\site-packages\\sklearn\\neighbors\\_classification.py:228: DataConversionWarning: A column-vector y was passed when a 1d array was expected. Please change the shape of y to (n_samples,), for example using ravel().\n",
      "  return self._fit(X, y)\n",
      "c:\\Users\\carin\\AppData\\Local\\Programs\\Python\\Python311\\Lib\\site-packages\\sklearn\\metrics\\_classification.py:1469: UndefinedMetricWarning: Recall and F-score are ill-defined and being set to 0.0 in labels with no true samples. Use `zero_division` parameter to control this behavior.\n",
      "  _warn_prf(average, modifier, msg_start, len(result))\n",
      "c:\\Users\\carin\\AppData\\Local\\Programs\\Python\\Python311\\Lib\\site-packages\\sklearn\\metrics\\_classification.py:1469: UndefinedMetricWarning: Recall and F-score are ill-defined and being set to 0.0 in labels with no true samples. Use `zero_division` parameter to control this behavior.\n",
      "  _warn_prf(average, modifier, msg_start, len(result))\n",
      "c:\\Users\\carin\\AppData\\Local\\Programs\\Python\\Python311\\Lib\\site-packages\\sklearn\\metrics\\_classification.py:1469: UndefinedMetricWarning: Recall and F-score are ill-defined and being set to 0.0 in labels with no true samples. Use `zero_division` parameter to control this behavior.\n",
      "  _warn_prf(average, modifier, msg_start, len(result))\n",
      "c:\\Users\\carin\\AppData\\Local\\Programs\\Python\\Python311\\Lib\\site-packages\\sklearn\\neighbors\\_classification.py:228: DataConversionWarning: A column-vector y was passed when a 1d array was expected. Please change the shape of y to (n_samples,), for example using ravel().\n",
      "  return self._fit(X, y)\n",
      "c:\\Users\\carin\\AppData\\Local\\Programs\\Python\\Python311\\Lib\\site-packages\\sklearn\\metrics\\_classification.py:1469: UndefinedMetricWarning: Recall and F-score are ill-defined and being set to 0.0 in labels with no true samples. Use `zero_division` parameter to control this behavior.\n",
      "  _warn_prf(average, modifier, msg_start, len(result))\n",
      "c:\\Users\\carin\\AppData\\Local\\Programs\\Python\\Python311\\Lib\\site-packages\\sklearn\\metrics\\_classification.py:1469: UndefinedMetricWarning: Recall and F-score are ill-defined and being set to 0.0 in labels with no true samples. Use `zero_division` parameter to control this behavior.\n",
      "  _warn_prf(average, modifier, msg_start, len(result))\n",
      "c:\\Users\\carin\\AppData\\Local\\Programs\\Python\\Python311\\Lib\\site-packages\\sklearn\\metrics\\_classification.py:1469: UndefinedMetricWarning: Recall and F-score are ill-defined and being set to 0.0 in labels with no true samples. Use `zero_division` parameter to control this behavior.\n",
      "  _warn_prf(average, modifier, msg_start, len(result))\n",
      "c:\\Users\\carin\\AppData\\Local\\Programs\\Python\\Python311\\Lib\\site-packages\\sklearn\\neighbors\\_classification.py:228: DataConversionWarning: A column-vector y was passed when a 1d array was expected. Please change the shape of y to (n_samples,), for example using ravel().\n",
      "  return self._fit(X, y)\n",
      "c:\\Users\\carin\\AppData\\Local\\Programs\\Python\\Python311\\Lib\\site-packages\\sklearn\\metrics\\_classification.py:1469: UndefinedMetricWarning: Recall and F-score are ill-defined and being set to 0.0 in labels with no true samples. Use `zero_division` parameter to control this behavior.\n",
      "  _warn_prf(average, modifier, msg_start, len(result))\n",
      "c:\\Users\\carin\\AppData\\Local\\Programs\\Python\\Python311\\Lib\\site-packages\\sklearn\\metrics\\_classification.py:1469: UndefinedMetricWarning: Recall and F-score are ill-defined and being set to 0.0 in labels with no true samples. Use `zero_division` parameter to control this behavior.\n",
      "  _warn_prf(average, modifier, msg_start, len(result))\n",
      "c:\\Users\\carin\\AppData\\Local\\Programs\\Python\\Python311\\Lib\\site-packages\\sklearn\\metrics\\_classification.py:1469: UndefinedMetricWarning: Recall and F-score are ill-defined and being set to 0.0 in labels with no true samples. Use `zero_division` parameter to control this behavior.\n",
      "  _warn_prf(average, modifier, msg_start, len(result))\n"
     ]
    }
   ],
   "source": [
    "from sklearn.neighbors import KNeighborsClassifier\n",
    "from sklearn.metrics import classification_report\n",
    "\n",
    "for x in range(len(r)):\n",
    "    \n",
    "    p_train_data = np.matmul(eig_vectors[:, 0:r[x]].T, Xtrain.T).T\n",
    "    p_test_data = np.matmul(eig_vectors[:, 0:r[x]].T, Xtest.T).T\n",
    "\n",
    "    neigh = KNeighborsClassifier(n_neighbors=1)\n",
    "    neigh.fit(p_train_data, Ytrain)\n",
    "\n",
    "    y_pred=neigh.predict(p_test_data)\n",
    "\n",
    "    print('accuracy for alpha with number -->',alphas[x])\n",
    "    print(classification_report(Ytest, y_pred))"
   ]
  }
 ],
 "metadata": {
  "kernelspec": {
   "display_name": "Python 3",
   "language": "python",
   "name": "python3"
  },
  "language_info": {
   "codemirror_mode": {
    "name": "ipython",
    "version": 3
   },
   "file_extension": ".py",
   "mimetype": "text/x-python",
   "name": "python",
   "nbconvert_exporter": "python",
   "pygments_lexer": "ipython3",
   "version": "3.11.2"
  },
  "orig_nbformat": 4
 },
 "nbformat": 4,
 "nbformat_minor": 2
}
